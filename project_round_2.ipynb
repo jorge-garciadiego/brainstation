{
 "cells": [
  {
   "cell_type": "code",
   "execution_count": 17,
   "metadata": {},
   "outputs": [],
   "source": [
    "import pandas as pd\n",
    "import numpy as np \n",
    "import matplotlib.pyplot as plt\n"
   ]
  },
  {
   "cell_type": "code",
   "execution_count": 2,
   "metadata": {},
   "outputs": [],
   "source": [
    "data_path = 'data/full.csv'"
   ]
  },
  {
   "cell_type": "code",
   "execution_count": 8,
   "metadata": {},
   "outputs": [],
   "source": [
    "raw_data = pd.read_csv(data_path)"
   ]
  },
  {
   "cell_type": "code",
   "execution_count": 9,
   "metadata": {},
   "outputs": [],
   "source": [
    "columns = raw_data.columns.tolist()"
   ]
  },
  {
   "cell_type": "code",
   "execution_count": 10,
   "metadata": {},
   "outputs": [],
   "source": [
    "columns = [c for c in columns if c not in ['y']]"
   ]
  },
  {
   "cell_type": "code",
   "execution_count": 11,
   "metadata": {},
   "outputs": [
    {
     "data": {
      "text/plain": [
       "['age',\n",
       " 'job',\n",
       " 'marital',\n",
       " 'education',\n",
       " 'default',\n",
       " 'housing',\n",
       " 'loan',\n",
       " 'contact',\n",
       " 'month',\n",
       " 'day_of_week',\n",
       " 'duration',\n",
       " 'campaign',\n",
       " 'pdays',\n",
       " 'previous',\n",
       " 'poutcome',\n",
       " 'emp.var.rate',\n",
       " 'cons.price.idx',\n",
       " 'cons.conf.idx',\n",
       " 'euribor3m',\n",
       " 'nr.employed']"
      ]
     },
     "execution_count": 11,
     "metadata": {},
     "output_type": "execute_result"
    }
   ],
   "source": [
    "columns"
   ]
  },
  {
   "cell_type": "code",
   "execution_count": 12,
   "metadata": {},
   "outputs": [
    {
     "name": "stdout",
     "output_type": "stream",
     "text": [
      "(41188, 20)\n",
      "(41188,)\n"
     ]
    }
   ],
   "source": [
    "target = 'y'\n",
    "X = raw_data[columns]\n",
    "Y = raw_data[target]\n",
    "print(X.shape)\n",
    "print(Y.shape)"
   ]
  },
  {
   "cell_type": "code",
   "execution_count": 19,
   "metadata": {},
   "outputs": [
    {
     "data": {
      "text/plain": [
       "Text(0, 0.5, 'Frequency')"
      ]
     },
     "execution_count": 19,
     "metadata": {},
     "output_type": "execute_result"
    },
    {
     "data": {
      "image/png": "[encoded data removed]",
      "text/plain": [
       "<Figure size 432x288 with 1 Axes>"
      ]
     },
     "metadata": {
      "needs_background": "light"
     },
     "output_type": "display_data"
    }
   ],
   "source": [
    "count_y = pd.value_counts(raw_data['y'], sort=True)\n",
    "count_y.plot(kind='bar', rot=0)\n",
    "plt.title('Target Distribution')\n",
    "plt.xlabel('y')\n",
    "plt.ylabel('Frequency')"
   ]
  },
  {
   "cell_type": "code",
   "execution_count": 22,
   "metadata": {},
   "outputs": [],
   "source": [
    "# Get the yes and no datasets\n",
    "\n",
    "yes = raw_data[raw_data.y == 'yes']\n",
    "no = raw_data[raw_data =='no']"
   ]
  },
  {
   "cell_type": "code",
   "execution_count": 24,
   "metadata": {},
   "outputs": [
    {
     "name": "stdout",
     "output_type": "stream",
     "text": [
      "(4640, 21) (41188, 21)\n"
     ]
    }
   ],
   "source": [
    "print(yes.shape, no.shape)"
   ]
  },
  {
   "cell_type": "code",
   "execution_count": null,
   "metadata": {},
   "outputs": [],
   "source": [
    "yes.groupby(by=['contact', ])"
   ]
  },
  {
   "cell_type": "markdown",
   "metadata": {},
   "source": [
    "## <font color=#ff686b>Transformed DataFrame</font>\n",
    "\n",
    "This data set holds the transformed categorical variables to int\n",
    "\n",
    "<font color=#84dcc6>&#x2730;</font> `job`\n",
    "| housemaid | services | admin. | blue-collar | technician | retired | management | unemployed | self-employed | entrepreneur | student | unknown |\n",
    "| --- | --- | --- | --- | --- | --- | --- | --- | --- | --- | --- | --- |\n",
    "| 0 | 1 | 2 | 3 | 4 | 5 | 6 | 7 | 8 | 9 | 10 | 11 |\n",
    "\n",
    "<font color=#84dcc6>&#x2730;</font> `marital`\n",
    "| married | single | divorsed | unknown |\n",
    "| --- | --- | --- | --- |\n",
    "| 0 | 1 | 2 | 3 |\n",
    "\n",
    "<font color=#84dcc6>&#x2730;</font> `education`\n",
    "| basic.4y | high.school | basic.6y | basic.9y | professional.course | unknown | university.degree | illiterate | \n",
    "| --- | --- | --- | --- | --- | --- | --- | --- | \n",
    "| 0 | 1 | 2 | 3 | 4 | 5 | 6 | 7 | \n",
    "\n",
    "<font color=#84dcc6>&#x2730;</font> `default`\n",
    "| no | unknown | \n",
    "| --- | --- | \n",
    "| 0 | 1 |\n",
    "\n",
    "<font color=#84dcc6>&#x2730;</font> `housing`\n",
    "| no | yes | unknown | \n",
    "| --- | --- | --- | \n",
    "| 0 | 1 | 2 | \n",
    "\n",
    "<font color=#84dcc6>&#x2730;</font> `loan`\n",
    "| no | yes | unknown |\n",
    "| --- | --- | --- | \n",
    "| 0 | 1 | 2 |\n",
    "\n",
    "<font color=#84dcc6>&#x2730;</font> `contact`\n",
    "| telephone | cellular | \n",
    "| --- | --- | \n",
    "| 0 | 1 | \n",
    "\n",
    "<font color=#84dcc6>&#x2730;</font> `poutcome`\n",
    "| nonexistent | failure | success | \n",
    "| --- | --- | --- | \n",
    "| 0 | 1 | 2 | \n",
    "\n",
    "<font color=#84dcc6>&#x2730;</font> `age_can_class`\n",
    "| adult | youth | senior | \n",
    "| --- | --- | --- | \n",
    "|0 | 1 | 2 |\n",
    "\n",
    "<font color=#84dcc6>&#x2730;</font> `education_lvl`\n",
    "| basic | high.school | professional.course | university.degree | illiterate | \n",
    "| --- | --- | --- | --- | --- | \n",
    "| 0 | 1 | 2 | 3 | 4 | \n"
   ]
  }
 ],
 "metadata": {
  "interpreter": {
   "hash": "7bd06cde3a9bae70692475c638facf5ce09e644e52c17b611fb2d81492b8f7f8"
  },
  "kernelspec": {
   "display_name": "Python 3.8.12 64-bit ('base': conda)",
   "language": "python",
   "name": "python3"
  },
  "language_info": {
   "codemirror_mode": {
    "name": "ipython",
    "version": 3
   },
   "file_extension": ".py",
   "mimetype": "text/x-python",
   "name": "python",
   "nbconvert_exporter": "python",
   "pygments_lexer": "ipython3",
   "version": "3.8.12"
  },
  "orig_nbformat": 4
 },
 "nbformat": 4,
 "nbformat_minor": 2
}
